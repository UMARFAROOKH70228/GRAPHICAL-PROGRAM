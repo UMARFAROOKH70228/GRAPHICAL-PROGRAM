{
 "cells": [
  {
   "cell_type": "code",
   "execution_count": 1,
   "metadata": {},
   "outputs": [],
   "source": [
    "import turtle\n",
    "turtle.speed(0)\n",
    "turtle.bgcolor(\"black\")\n",
    "for i in range(15):\n",
    "    for colours in (\"red\",\"magenta\",\"blue\",\"cyan\",\"green\",\"yellow\",\"white\"):\n",
    "        turtle.color(colours)\n",
    "        turtle.pensize(3)\n",
    "        turtle.left(4)\n",
    "        turtle.forward(200)\n",
    "        turtle.left(90)\n",
    "        turtle.forward(200)\n",
    "        turtle.left(90)\n",
    "        turtle.forward(200)\n",
    "        turtle.left(90)\n",
    "        turtle.forward(200)\n",
    "        turtle.left(90)"
   ]
  },
  {
   "cell_type": "code",
   "execution_count": null,
   "metadata": {},
   "outputs": [],
   "source": []
  }
 ],
 "metadata": {
  "kernelspec": {
   "display_name": "Python 3",
   "language": "python",
   "name": "python3"
  },
  "language_info": {
   "codemirror_mode": {
    "name": "ipython",
    "version": 3
   },
   "file_extension": ".py",
   "mimetype": "text/x-python",
   "name": "python",
   "nbconvert_exporter": "python",
   "pygments_lexer": "ipython3",
   "version": "3.8.5"
  }
 },
 "nbformat": 4,
 "nbformat_minor": 4
}
